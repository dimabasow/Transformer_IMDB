{
 "cells": [
  {
   "cell_type": "code",
   "execution_count": 63,
   "metadata": {
    "collapsed": true,
    "pycharm": {
     "name": "#%%\n"
    }
   },
   "outputs": [],
   "source": [
    "import pandas as pd\n",
    "import numpy as np\n",
    "import os\n",
    "from transformers import RobertaTokenizerFast\n",
    "from sklearn import metrics\n",
    "import onnxruntime\n",
    "import matplotlib.pyplot as plt"
   ]
  },
  {
   "cell_type": "markdown",
   "source": [
    "Функция для создания DataFrame"
   ],
   "metadata": {
    "collapsed": false,
    "pycharm": {
     "name": "#%% md\n"
    }
   }
  },
  {
   "cell_type": "code",
   "execution_count": 38,
   "outputs": [],
   "source": [
    "def make_df(path):\n",
    "    data_dict = dict(text = [],\n",
    "                     y_score_true = [])\n",
    "    for rootdir, dirs, files in os.walk(path):\n",
    "        for file in files:\n",
    "            with open(os.path.join(rootdir, file)) as f:\n",
    "                try:\n",
    "                    text = \" \".join(f.readlines())\n",
    "                    text = text.replace(r\"<br />\", \"\")\n",
    "                    score = float(file[:-4].split(\"_\")[-1])\n",
    "                    data_dict[\"text\"].append(text)\n",
    "                    data_dict[\"y_score_true\"].append(score)\n",
    "                except:\n",
    "                    print(\"Ошибка чтения файла\", file)\n",
    "    frame = pd.DataFrame(data_dict)\n",
    "    return frame"
   ],
   "metadata": {
    "collapsed": false,
    "pycharm": {
     "name": "#%%\n"
    }
   }
  },
  {
   "cell_type": "markdown",
   "source": [
    "Генеративная функция"
   ],
   "metadata": {
    "collapsed": false,
    "pycharm": {
     "name": "#%% md\n"
    }
   }
  },
  {
   "cell_type": "code",
   "execution_count": 30,
   "outputs": [],
   "source": [
    "def get_predict_function(path_to_onnx):\n",
    "    tokenizer = RobertaTokenizerFast.from_pretrained('roberta-base')\n",
    "    ort_session = onnxruntime.InferenceSession(path_to_onnx)\n",
    "    input_names = [i.name for i in ort_session.get_inputs()]\n",
    "    def predict_function(text):\n",
    "        input_sample_dict = tokenizer.encode_plus(\n",
    "            text,\n",
    "            add_special_tokens=True,\n",
    "            max_length=512,\n",
    "            return_token_type_ids=True,\n",
    "            padding=\"max_length\",\n",
    "            truncation=True,\n",
    "            return_attention_mask=True,\n",
    "            return_tensors='np',\n",
    "        )\n",
    "        ort_inputs = {input_names[0]: np.int64(input_sample_dict[\"input_ids\"]),\n",
    "                      input_names[1]: np.int64(input_sample_dict[\"attention_mask\"]),\n",
    "                      input_names[2]: np.int64(input_sample_dict[\"token_type_ids\"]),}\n",
    "        return ort_session.run(None, ort_inputs)[0][0]\n",
    "    return predict_function"
   ],
   "metadata": {
    "collapsed": false,
    "pycharm": {
     "name": "#%%\n"
    }
   }
  },
  {
   "cell_type": "markdown",
   "source": [
    "Генерация функции для предсказания"
   ],
   "metadata": {
    "collapsed": false,
    "pycharm": {
     "name": "#%% md\n"
    }
   }
  },
  {
   "cell_type": "code",
   "execution_count": 33,
   "outputs": [],
   "source": [
    "predict_function = get_predict_function(\"ROBERTA_model.onnx\")"
   ],
   "metadata": {
    "collapsed": false,
    "pycharm": {
     "name": "#%%\n"
    }
   }
  },
  {
   "cell_type": "markdown",
   "source": [
    "Чтение данных"
   ],
   "metadata": {
    "collapsed": false,
    "pycharm": {
     "name": "#%% md\n"
    }
   }
  },
  {
   "cell_type": "code",
   "execution_count": null,
   "outputs": [],
   "source": [
    "test_df = make_df(r\"aclImdb\\test\")"
   ],
   "metadata": {
    "collapsed": false,
    "pycharm": {
     "name": "#%%\n"
    }
   }
  },
  {
   "cell_type": "markdown",
   "source": [
    "Вычисление результатов модели"
   ],
   "metadata": {
    "collapsed": false,
    "pycharm": {
     "name": "#%% md\n"
    }
   }
  },
  {
   "cell_type": "code",
   "execution_count": null,
   "outputs": [],
   "source": [
    "test_df[\"y_score_model\"] = test_df[\"text\"].apply(predict_function)"
   ],
   "metadata": {
    "collapsed": false,
    "pycharm": {
     "name": "#%%\n"
    }
   }
  },
  {
   "cell_type": "markdown",
   "source": [
    "Сохранение полученного DataFrame"
   ],
   "metadata": {
    "collapsed": false,
    "pycharm": {
     "name": "#%% md\n"
    }
   }
  },
  {
   "cell_type": "code",
   "execution_count": null,
   "outputs": [],
   "source": [
    "test_df.to_csv(\"test_df.csv\", index=False)"
   ],
   "metadata": {
    "collapsed": false,
    "pycharm": {
     "name": "#%%\n"
    }
   }
  },
  {
   "cell_type": "code",
   "execution_count": 55,
   "outputs": [],
   "source": [
    "test_df = pd.read_csv(\"test_df.csv\")"
   ],
   "metadata": {
    "collapsed": false,
    "pycharm": {
     "name": "#%%\n"
    }
   }
  },
  {
   "cell_type": "markdown",
   "source": [
    "Добавление меток классов"
   ],
   "metadata": {
    "collapsed": false,
    "pycharm": {
     "name": "#%% md\n"
    }
   }
  },
  {
   "cell_type": "code",
   "execution_count": 56,
   "outputs": [],
   "source": [
    "test_df[\"y_label_true\"] = test_df[\"y_score_true\"] > 5.5\n",
    "test_df[\"y_label_model\"] = test_df[\"y_score_model\"] > 5.5"
   ],
   "metadata": {
    "collapsed": false,
    "pycharm": {
     "name": "#%%\n"
    }
   }
  },
  {
   "cell_type": "code",
   "execution_count": 57,
   "outputs": [
    {
     "data": {
      "text/plain": "                                                    text  y_score_true  \\\n0      Once again Mr. Costner has dragged out a movie...           2.0   \n1      This is an example of why the majority of acti...           4.0   \n2      First of all I hate those moronic rappers, who...           1.0   \n3      Not even the Beatles could write songs everyon...           3.0   \n4      Brass pictures (movies is not a fitting word f...           3.0   \n...                                                  ...           ...   \n24988  I was extraordinarily impressed by this film. ...           8.0   \n24989  Although I'm not a golf fan, I attended a snea...          10.0   \n24990  From the start of \"The Edge Of Love\", the view...           8.0   \n24991  This movie, with all its complexity and subtle...          10.0   \n24992  I've seen this story before but my kids haven'...           7.0   \n\n       y_score_model  y_label_true  y_label_model  \n0           2.643263         False          False  \n1           4.058494         False          False  \n2           1.269353         False          False  \n3           3.246474         False          False  \n4           2.357594         False          False  \n...              ...           ...            ...  \n24988      10.017828          True           True  \n24989       9.706835          True           True  \n24990       8.257510          True           True  \n24991       9.938754          True           True  \n24992       7.854799          True           True  \n\n[24993 rows x 5 columns]",
      "text/html": "<div>\n<style scoped>\n    .dataframe tbody tr th:only-of-type {\n        vertical-align: middle;\n    }\n\n    .dataframe tbody tr th {\n        vertical-align: top;\n    }\n\n    .dataframe thead th {\n        text-align: right;\n    }\n</style>\n<table border=\"1\" class=\"dataframe\">\n  <thead>\n    <tr style=\"text-align: right;\">\n      <th></th>\n      <th>text</th>\n      <th>y_score_true</th>\n      <th>y_score_model</th>\n      <th>y_label_true</th>\n      <th>y_label_model</th>\n    </tr>\n  </thead>\n  <tbody>\n    <tr>\n      <th>0</th>\n      <td>Once again Mr. Costner has dragged out a movie...</td>\n      <td>2.0</td>\n      <td>2.643263</td>\n      <td>False</td>\n      <td>False</td>\n    </tr>\n    <tr>\n      <th>1</th>\n      <td>This is an example of why the majority of acti...</td>\n      <td>4.0</td>\n      <td>4.058494</td>\n      <td>False</td>\n      <td>False</td>\n    </tr>\n    <tr>\n      <th>2</th>\n      <td>First of all I hate those moronic rappers, who...</td>\n      <td>1.0</td>\n      <td>1.269353</td>\n      <td>False</td>\n      <td>False</td>\n    </tr>\n    <tr>\n      <th>3</th>\n      <td>Not even the Beatles could write songs everyon...</td>\n      <td>3.0</td>\n      <td>3.246474</td>\n      <td>False</td>\n      <td>False</td>\n    </tr>\n    <tr>\n      <th>4</th>\n      <td>Brass pictures (movies is not a fitting word f...</td>\n      <td>3.0</td>\n      <td>2.357594</td>\n      <td>False</td>\n      <td>False</td>\n    </tr>\n    <tr>\n      <th>...</th>\n      <td>...</td>\n      <td>...</td>\n      <td>...</td>\n      <td>...</td>\n      <td>...</td>\n    </tr>\n    <tr>\n      <th>24988</th>\n      <td>I was extraordinarily impressed by this film. ...</td>\n      <td>8.0</td>\n      <td>10.017828</td>\n      <td>True</td>\n      <td>True</td>\n    </tr>\n    <tr>\n      <th>24989</th>\n      <td>Although I'm not a golf fan, I attended a snea...</td>\n      <td>10.0</td>\n      <td>9.706835</td>\n      <td>True</td>\n      <td>True</td>\n    </tr>\n    <tr>\n      <th>24990</th>\n      <td>From the start of \"The Edge Of Love\", the view...</td>\n      <td>8.0</td>\n      <td>8.257510</td>\n      <td>True</td>\n      <td>True</td>\n    </tr>\n    <tr>\n      <th>24991</th>\n      <td>This movie, with all its complexity and subtle...</td>\n      <td>10.0</td>\n      <td>9.938754</td>\n      <td>True</td>\n      <td>True</td>\n    </tr>\n    <tr>\n      <th>24992</th>\n      <td>I've seen this story before but my kids haven'...</td>\n      <td>7.0</td>\n      <td>7.854799</td>\n      <td>True</td>\n      <td>True</td>\n    </tr>\n  </tbody>\n</table>\n<p>24993 rows × 5 columns</p>\n</div>"
     },
     "execution_count": 57,
     "metadata": {},
     "output_type": "execute_result"
    }
   ],
   "source": [
    "test_df"
   ],
   "metadata": {
    "collapsed": false,
    "pycharm": {
     "name": "#%%\n"
    }
   }
  },
  {
   "cell_type": "markdown",
   "source": [
    "Вычисление метрик"
   ],
   "metadata": {
    "collapsed": false,
    "pycharm": {
     "name": "#%% md\n"
    }
   }
  },
  {
   "cell_type": "code",
   "execution_count": 58,
   "outputs": [
    {
     "data": {
      "text/plain": "0.8448122232932485"
     },
     "execution_count": 58,
     "metadata": {},
     "output_type": "execute_result"
    }
   ],
   "source": [
    "metrics.r2_score(test_df[\"y_score_true\"], test_df[\"y_score_model\"])"
   ],
   "metadata": {
    "collapsed": false,
    "pycharm": {
     "name": "#%%\n"
    }
   }
  },
  {
   "cell_type": "code",
   "execution_count": 59,
   "outputs": [
    {
     "data": {
      "text/plain": "0.847241753118073"
     },
     "execution_count": 59,
     "metadata": {},
     "output_type": "execute_result"
    }
   ],
   "source": [
    "metrics.mean_absolute_error(test_df[\"y_score_true\"], test_df[\"y_score_model\"])"
   ],
   "metadata": {
    "collapsed": false,
    "pycharm": {
     "name": "#%%\n"
    }
   }
  },
  {
   "cell_type": "code",
   "execution_count": 61,
   "outputs": [
    {
     "data": {
      "text/plain": "0.9552274636898331"
     },
     "execution_count": 61,
     "metadata": {},
     "output_type": "execute_result"
    }
   ],
   "source": [
    "metrics.accuracy_score(test_df[\"y_label_true\"], test_df[\"y_label_model\"])"
   ],
   "metadata": {
    "collapsed": false,
    "pycharm": {
     "name": "#%%\n"
    }
   }
  },
  {
   "cell_type": "code",
   "execution_count": 64,
   "outputs": [
    {
     "data": {
      "text/plain": "<Figure size 640x480 with 1 Axes>",
      "image/png": "[encoded data removed]"
     },
     "metadata": {},
     "output_type": "display_data"
    }
   ],
   "source": [
    "fpr, tpr, _ = metrics.roc_curve(test_df[\"y_label_true\"], test_df[\"y_score_model\"])\n",
    "auc = metrics.roc_auc_score(test_df[\"y_label_true\"], test_df[\"y_score_model\"])\n",
    "plt.plot(fpr,tpr,label=\"AUC=\"+str(auc))\n",
    "plt.ylabel('True Positive Rate')\n",
    "plt.xlabel('False Positive Rate')\n",
    "plt.legend(loc=4)\n",
    "plt.show()"
   ],
   "metadata": {
    "collapsed": false,
    "pycharm": {
     "name": "#%%\n"
    }
   }
  }
 ],
 "metadata": {
  "kernelspec": {
   "display_name": "Python 3",
   "language": "python",
   "name": "python3"
  },
  "language_info": {
   "codemirror_mode": {
    "name": "ipython",
    "version": 2
   },
   "file_extension": ".py",
   "mimetype": "text/x-python",
   "name": "python",
   "nbconvert_exporter": "python",
   "pygments_lexer": "ipython2",
   "version": "2.7.6"
  }
 },
 "nbformat": 4,
 "nbformat_minor": 0
}